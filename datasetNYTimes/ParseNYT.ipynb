{
 "cells": [
  {
   "cell_type": "code",
   "execution_count": 70,
   "metadata": {
    "collapsed": false
   },
   "outputs": [
    {
     "data": {
      "text/plain": [
       "<pyspark.context.SparkContext at 0x10c766610>"
      ]
     },
     "execution_count": 70,
     "metadata": {},
     "output_type": "execute_result"
    }
   ],
   "source": [
    "sc"
   ]
  },
  {
   "cell_type": "code",
   "execution_count": 71,
   "metadata": {
    "collapsed": false
   },
   "outputs": [],
   "source": [
    "import json \n",
    "import re\n",
    "import os\n",
    "import glob"
   ]
  },
  {
   "cell_type": "code",
   "execution_count": 72,
   "metadata": {
    "collapsed": false
   },
   "outputs": [],
   "source": [
    "def parsePersons(df):\n",
    "    personsCollection = open('PersonsCollection.txt', 'a')\n",
    "    for i in range(len(df)):\n",
    "        for j in range(len(df[i])):\n",
    "            if df[i][j][1] == 'persons':\n",
    "                person = re.sub(r'[^a-zA-Z]', ' ', df[i][j][3]).lower()\n",
    "                personsCollection.write(person+'\\n')\n",
    "\n",
    "def parseSubject(df):\n",
    "    subjectCollection = open('SubjectCollection.txt', 'a')\n",
    "    for i in range(len(df)):\n",
    "        for j in range(len(df[i])):\n",
    "            if df[i][j][1] == 'subject':\n",
    "                subject = re.sub(r'[^a-zA-Z]', ' ', df[i][j][3]).lower()\n",
    "                subjectCollection.write(subject+'\\n')"
   ]
  },
  {
   "cell_type": "code",
   "execution_count": 73,
   "metadata": {
    "collapsed": false
   },
   "outputs": [
    {
     "name": "stdout",
     "output_type": "stream",
     "text": [
      "/Users/Enzo/anaconda2/CSC_599_WORK\n"
     ]
    }
   ],
   "source": [
    "#archive = open('archivejan1.json', 'r')\n",
    "# os.listdir('~')\n",
    "# df.show()\n",
    "# df.printSchema()\n",
    "cwd = os.getcwd()\n",
    "print cwd\n",
    "for i in  glob.glob(cwd+'/archive*'):\n",
    "    df = spark.read.json(i)\n",
    "    df = df.select('response.docs.keywords')\n",
    "    df = df.first()[0]\n",
    "    parsePersons(df)\n",
    "    parseSubject(df)"
   ]
  },
  {
   "cell_type": "code",
   "execution_count": 74,
   "metadata": {
    "collapsed": false
   },
   "outputs": [
    {
     "ename": "AttributeError",
     "evalue": "'list' object has no attribute 'printSchema'",
     "output_type": "error",
     "traceback": [
      "\u001b[0;31m---------------------------------------------------------------------------\u001b[0m",
      "\u001b[0;31mAttributeError\u001b[0m                            Traceback (most recent call last)",
      "\u001b[0;32m<ipython-input-74-9e0a3684ccee>\u001b[0m in \u001b[0;36m<module>\u001b[0;34m()\u001b[0m\n\u001b[1;32m      1\u001b[0m \u001b[0;31m#df = df.select('response.docs.keywords')\u001b[0m\u001b[0;34m\u001b[0m\u001b[0;34m\u001b[0m\u001b[0m\n\u001b[0;32m----> 2\u001b[0;31m \u001b[0mdf\u001b[0m\u001b[0;34m.\u001b[0m\u001b[0mprintSchema\u001b[0m\u001b[0;34m(\u001b[0m\u001b[0;34m)\u001b[0m\u001b[0;34m\u001b[0m\u001b[0m\n\u001b[0m",
      "\u001b[0;31mAttributeError\u001b[0m: 'list' object has no attribute 'printSchema'"
     ]
    }
   ],
   "source": [
    "#df = df.select('response.docs.keywords')\n",
    "#df.printSchema()"
   ]
  },
  {
   "cell_type": "code",
   "execution_count": 66,
   "metadata": {
    "collapsed": false
   },
   "outputs": [
    {
     "ename": "AttributeError",
     "evalue": "'list' object has no attribute 'first'",
     "output_type": "error",
     "traceback": [
      "\u001b[0;31m---------------------------------------------------------------------------\u001b[0m",
      "\u001b[0;31mAttributeError\u001b[0m                            Traceback (most recent call last)",
      "\u001b[0;32m<ipython-input-66-41ba9de48d8e>\u001b[0m in \u001b[0;36m<module>\u001b[0;34m()\u001b[0m\n\u001b[0;32m----> 1\u001b[0;31m \u001b[0mdf\u001b[0m \u001b[0;34m=\u001b[0m \u001b[0mdf\u001b[0m\u001b[0;34m.\u001b[0m\u001b[0mfirst\u001b[0m\u001b[0;34m(\u001b[0m\u001b[0;34m)\u001b[0m\u001b[0;34m[\u001b[0m\u001b[0;36m0\u001b[0m\u001b[0;34m]\u001b[0m \u001b[0;31m# Selects all the entries inside keywwords\u001b[0m\u001b[0;34m\u001b[0m\u001b[0m\n\u001b[0m",
      "\u001b[0;31mAttributeError\u001b[0m: 'list' object has no attribute 'first'"
     ]
    }
   ],
   "source": [
    "#df = df.first()[0] # Selects all the entries inside keywwords"
   ]
  },
  {
   "cell_type": "code",
   "execution_count": 41,
   "metadata": {
    "collapsed": false
   },
   "outputs": [
    {
     "name": "stdout",
     "output_type": "stream",
     "text": [
      "[Row(is_major=u'N', name=u'subject', rank=u'1', value=u'Cyberwarfare and Defense'), Row(is_major=u'N', name=u'subject', rank=u'2', value=u'Presidential Election of 2016'), Row(is_major=u'N', name=u'persons', rank=u'3', value=u'Merkel, Angela'), Row(is_major=u'N', name=u'persons', rank=u'4', value=u'Putin, Vladimir V')]\n",
      "======================================\n",
      "Row(is_major=u'N', name=u'subject', rank=u'1', value=u'Cyberwarfare and Defense')\n",
      "5206\n",
      "4\n"
     ]
    }
   ],
   "source": [
    "print df[0]\n",
    "print \"======================================\"\n",
    "print df[0][0]\n",
    "print len(df)\n",
    "print len(df[0])"
   ]
  },
  {
   "cell_type": "markdown",
   "metadata": {},
   "source": [
    "### MAP REDUCE ON TEXT FILES"
   ]
  },
  {
   "cell_type": "code",
   "execution_count": 50,
   "metadata": {
    "collapsed": false
   },
   "outputs": [],
   "source": [
    "rdd = sc.textFile(\"/Users/Enzo/anaconda2/CSC_599_WORK/PersonsCollection.txt\")"
   ]
  },
  {
   "cell_type": "code",
   "execution_count": 51,
   "metadata": {
    "collapsed": false
   },
   "outputs": [
    {
     "data": {
      "text/plain": [
       "[u'merkel  angela',\n",
       " u'putin  vladimir v',\n",
       " u'mccullin  don         ',\n",
       " u'rylance  mark',\n",
       " u'terfel  bryn',\n",
       " u'wintour  anna',\n",
       " u'damrau  diana',\n",
       " u'grigolo  vittorio',\n",
       " u'damrau  diana',\n",
       " u'grigolo  vittorio']"
      ]
     },
     "execution_count": 51,
     "metadata": {},
     "output_type": "execute_result"
    }
   ],
   "source": [
    "rdd.take(10)"
   ]
  },
  {
   "cell_type": "code",
   "execution_count": 56,
   "metadata": {
    "collapsed": false
   },
   "outputs": [
    {
     "data": {
      "text/plain": [
       "[(u'shannon  christopher', 1),\n",
       " (u'olsen  angel', 1),\n",
       " (u'vig knudstorp  jorgen', 1),\n",
       " (u'killer mike', 2),\n",
       " (u'walter  harriet         ', 1),\n",
       " (u'kingsolver  barbara', 1),\n",
       " (u'oquendo  orlando', 1),\n",
       " (u'evans  lee sunday', 1),\n",
       " (u'miller  mary', 1),\n",
       " (u'taylor  elizabeth dowling', 1)]"
      ]
     },
     "execution_count": 56,
     "metadata": {},
     "output_type": "execute_result"
    }
   ],
   "source": [
    "rdd.map(lambda x: (x,1)) \\\n",
    "        .reduceByKey(lambda x,y: x+y) \\\n",
    "        .take(10)"
   ]
  },
  {
   "cell_type": "code",
   "execution_count": 75,
   "metadata": {
    "collapsed": false
   },
   "outputs": [],
   "source": [
    "import heapq"
   ]
  },
  {
   "cell_type": "code",
   "execution_count": null,
   "metadata": {
    "collapsed": true
   },
   "outputs": [],
   "source": [
    "\n",
    "# def mapper(line):\n",
    "#     for word in line:\n",
    "#         yield(word.lower(),1)\n",
    "\n",
    "# def reducer(line):\n",
    "#     yield (word, sum(counts))\n",
    "    \n"
   ]
  }
 ],
 "metadata": {
  "kernelspec": {
   "display_name": "Python 2",
   "language": "python",
   "name": "python2"
  },
  "language_info": {
   "codemirror_mode": {
    "name": "ipython",
    "version": 2
   },
   "file_extension": ".py",
   "mimetype": "text/x-python",
   "name": "python",
   "nbconvert_exporter": "python",
   "pygments_lexer": "ipython2",
   "version": "2.7.13"
  }
 },
 "nbformat": 4,
 "nbformat_minor": 2
}
