{
 "cells": [
  {
   "cell_type": "code",
   "execution_count": 3,
   "metadata": {},
   "outputs": [
    {
     "data": {
      "text/plain": [
       "<pyspark.context.SparkContext at 0x7efbd4a25cd0>"
      ]
     },
     "execution_count": 3,
     "metadata": {},
     "output_type": "execute_result"
    }
   ],
   "source": [
    "sc"
   ]
  },
  {
   "cell_type": "code",
   "execution_count": 21,
   "metadata": {},
   "outputs": [],
   "source": [
    "dfTweets = sqlContext.read.load('samplestream_twt.jsonl', format='json')\n",
    "# dfTweets.printSchema()"
   ]
  },
  {
   "cell_type": "code",
   "execution_count": 36,
   "metadata": {},
   "outputs": [],
   "source": [
    "retweet_status = dfTweets.select('place.bounding_box', 'place.full_name')\n",
    "retweet_status.registerTempTable('toplocations')\n",
    "occurrence = sqlContext.sql('select bounding_box, full_name, count(full_name) as occurrence from toplocations group by full_name, bounding_box').dropna() \n",
    "toploc = occurrence.orderBy('occurrence', ascending=False) #order by descending order based on occurrence"
   ]
  },
  {
   "cell_type": "code",
   "execution_count": 38,
   "metadata": {},
   "outputs": [],
   "source": [
    "# This command is what we use in the cluster.\n",
    "toploc.rdd.saveAsTextFile('finaltoplocationsout')"
   ]
  },
  {
   "cell_type": "markdown",
   "metadata": {},
   "source": [
    "## After running the code above on cluster"
   ]
  },
  {
   "cell_type": "code",
   "execution_count": 42,
   "metadata": {
    "collapsed": true
   },
   "outputs": [],
   "source": [
    "toplocations = sc.textFile(\"finaltoplocationsout\")"
   ]
  },
  {
   "cell_type": "code",
   "execution_count": 43,
   "metadata": {},
   "outputs": [
    {
     "data": {
      "text/plain": [
       "[u\"Row(bounding_box=Row(coordinates=[[[-95.823268, 29.522325], [-95.823268, 30.154665], [-95.069705, 30.154665], [-95.069705, 29.522325]]], type=u'Polygon'), full_name=u'Houston, TX', occurrence=5)\"]"
      ]
     },
     "execution_count": 43,
     "metadata": {},
     "output_type": "execute_result"
    }
   ],
   "source": [
    "toplocations.take(1)"
   ]
  },
  {
   "cell_type": "code",
   "execution_count": 44,
   "metadata": {},
   "outputs": [
    {
     "data": {
      "text/plain": [
       "[u'-95.823268, 29.522325; -95.823268, 30.154665; -95.069705, 30.154665; -95.069705, 29.522325;Houston, TX;5, NULL',\n",
       " u'-74.026675, 40.683935; -74.026675, 40.877483; -73.910408, 40.877483; -73.910408, 40.683935;Manhattan, NY;5, NULL']"
      ]
     },
     "execution_count": 44,
     "metadata": {},
     "output_type": "execute_result"
    }
   ],
   "source": [
    "remove = toplocations.map(lambda x: x.replace(\"Row(bounding_box=Row(coordinates=[[[\", \"\"))\n",
    "remove = remove.map(lambda x: x.replace(\"]], type=u'Polygon'), full_name=u'\", \",\"))\n",
    "remove = remove.map(lambda x: x.replace(\", occurrence=\", \";\"))\n",
    "final = remove.map(lambda x: x.replace(\")\", \", NULL\").replace(\"],\", ';').replace('[', '').replace(']', '').replace(\"'\", ''))\n",
    "\n",
    "final.take(2)"
   ]
  },
  {
   "cell_type": "code",
   "execution_count": 45,
   "metadata": {},
   "outputs": [
    {
     "data": {
      "text/plain": [
       "[(29.838495, -95.446486, u'Houston, TX', 5),\n",
       " (40.780709, -73.968542, u'Manhattan, NY', 5),\n",
       " (43.056722, -87.967292, u'Milwaukee, WI', 1),\n",
       " (32.189391, -110.915573, u'Tucson, AZ', 1),\n",
       " (48.088757, -122.164528, u'Marysville, WA', 1)]"
      ]
     },
     "execution_count": 45,
     "metadata": {},
     "output_type": "execute_result"
    }
   ],
   "source": [
    "def mapper(k1v1s): \n",
    "    for k1v1 in k1v1s:\n",
    "        k = k1v1.split(';')\n",
    "        x_co = float(k[0].split(',')[0]) + float(k[1].split(',')[0])+ float(k[2].split(',')[0])+float(k[3].split(',')[0])\n",
    "        x_co = x_co/4\n",
    "        y_co = float(k[0].split(',')[1]) + float(k[1].split(',')[1])+ float(k[2].split(',')[1])+float(k[3].split(',')[1])\n",
    "        y_co = y_co/4\n",
    "        yield (round(y_co,6), round(x_co, 6), k[4], int(k[5].split(',')[0]))\n",
    "\n",
    "coordinates = final.mapPartitions(mapper)\n",
    "coordinates.take(5) #count()"
   ]
  },
  {
   "cell_type": "code",
   "execution_count": 34,
   "metadata": {},
   "outputs": [],
   "source": [
    "import csv\n",
    "\n",
    "def writeRecords(records):\n",
    "    with open('coordinates.csv', 'w') as csvfile:\n",
    "        field = ['latitude', 'longitude', 'location','count']\n",
    "        writer = csv.DictWriter(csvfile, fieldnames=field)\n",
    "\n",
    "        writer.writeheader()\n",
    "        for record in records:\n",
    "            writer.writerow({'latitude': record[0], 'longitude': record[1], 'location': record[2], 'count': record[3]})"
   ]
  },
  {
   "cell_type": "code",
   "execution_count": 35,
   "metadata": {},
   "outputs": [],
   "source": [
    "coordinates = coordinates.toLocalIterator()\n",
    "writeRecords(coordinates)"
   ]
  },
  {
   "cell_type": "code",
   "execution_count": null,
   "metadata": {
    "collapsed": true
   },
   "outputs": [],
   "source": []
  }
 ],
 "metadata": {
  "anaconda-cloud": {},
  "kernelspec": {
   "display_name": "Python 2",
   "language": "python",
   "name": "python2"
  },
  "language_info": {
   "codemirror_mode": {
    "name": "ipython",
    "version": 2
   },
   "file_extension": ".py",
   "mimetype": "text/x-python",
   "name": "python",
   "nbconvert_exporter": "python",
   "pygments_lexer": "ipython2",
   "version": "2.7.13"
  }
 },
 "nbformat": 4,
 "nbformat_minor": 1
}
