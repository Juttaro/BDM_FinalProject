{
 "cells": [
  {
   "cell_type": "code",
   "execution_count": 130,
   "metadata": {
    "collapsed": false
   },
   "outputs": [],
   "source": [
    "sc\n",
    "import pyspark.sql.functions as sf"
   ]
  },
  {
   "cell_type": "code",
   "execution_count": 132,
   "metadata": {
    "collapsed": false
   },
   "outputs": [],
   "source": [
    "dfTweets = sqlContext.read.load('stream_twt_april28.jsonl', format='json')\n",
    "# dfTweets.printSchema()"
   ]
  },
  {
   "cell_type": "code",
   "execution_count": 133,
   "metadata": {
    "collapsed": false
   },
   "outputs": [],
   "source": [
    "retweet_status = dfTweets.select('place.bounding_box', sf.explode('quoted_status.entities.hashtags.text').alias('text'),'place.full_name', 'timestamp_ms')\n",
    "retweet_status.registerTempTable('toplocations')\n",
    "# retweet_status.printSchema()"
   ]
  },
  {
   "cell_type": "code",
   "execution_count": 134,
   "metadata": {
    "collapsed": false
   },
   "outputs": [
    {
     "name": "stdout",
     "output_type": "stream",
     "text": [
      "+--------------------+-------------------+--------------------+-------------+\n",
      "|        bounding_box|          full_name|                text|   occurrence|\n",
      "+--------------------+-------------------+--------------------+-------------+\n",
      "|[WrappedArray(Wra...|          Wayne, NJ|             TheList|1493392012864|\n",
      "|[WrappedArray(Wra...|     Sacramento, CA|               photo|1493392016065|\n",
      "|[WrappedArray(Wra...|     Sacramento, CA|                parc|1493392016065|\n",
      "|[WrappedArray(Wra...|        Houston, TX|MakeTodayBetterIn...|1493392017103|\n",
      "|[WrappedArray(Wra...| Palms, Los Angeles|        First100days|1493392019758|\n",
      "|[WrappedArray(Wra...| Kitchener, Ontario|           NHLBruins|1493392019951|\n",
      "|[WrappedArray(Wra...|  San Francisco, CA|        FyreFestival|1493392022821|\n",
      "|[WrappedArray(Wra...|Shorewood Hills, WI|            DJKHALED|1493392023145|\n",
      "|[WrappedArray(Wra...|Shorewood Hills, WI|            IMTHEONE|1493392023145|\n",
      "|[WrappedArray(Wra...|         Hallie, WI|          AWKOHAWNOH|1493392023811|\n",
      "|[WrappedArray(Wra...|         Texas, USA|        MagicKingdom|1493392061402|\n",
      "|[WrappedArray(Wra...|         Texas, USA|              hosted|1493392061402|\n",
      "|[WrappedArray(Wra...|         Texas, USA|          TMOMDisney|1493392061402|\n",
      "|[WrappedArray(Wra...|         Texas, USA|                TMOM|1493392061402|\n",
      "|[WrappedArray(Wra...|      Charlotte, NC|       PanthersDraft|1493392061779|\n",
      "|[WrappedArray(Wra...|       Florida, USA|           GatorsWin|1493392063342|\n",
      "|[WrappedArray(Wra...|     Fort Worth, TX|          FrogNation|1493392066256|\n",
      "|[WrappedArray(Wra...|     Fort Worth, TX|        CarterBoys17|1493392066256|\n",
      "|[WrappedArray(Wra...|   Toronto, Ontario|            Summer17|1493392066618|\n",
      "|[WrappedArray(Wra...|   Toronto, Ontario|            ImTheOne|1493392066618|\n",
      "+--------------------+-------------------+--------------------+-------------+\n",
      "only showing top 20 rows\n",
      "\n"
     ]
    }
   ],
   "source": [
    "\n",
    "occurrence = sqlContext.sql('select bounding_box, full_name, text ,timestamp_ms as occurrence from toplocations').dropna()\n",
    "# occurrence = occurrence.filter(sf.size('text') > 0)\n",
    "# toploc = occurrence.orderBy('occurrence', ascending=False) #order by descending order based on occurrence\n",
    "occurrence.show()\n",
    "#occurrence.count()"
   ]
  },
  {
   "cell_type": "code",
   "execution_count": 135,
   "metadata": {
    "collapsed": false
   },
   "outputs": [],
   "source": [
    "# This command is what we use in the cluster.\n",
    "occurrence.rdd.saveAsTextFile('hashtagmap2')"
   ]
  },
  {
   "cell_type": "markdown",
   "metadata": {},
   "source": [
    "## After running the code above on cluster"
   ]
  },
  {
   "cell_type": "code",
   "execution_count": 136,
   "metadata": {
    "collapsed": true
   },
   "outputs": [],
   "source": [
    "toplocations = sc.textFile(\"hashtagmap2\")"
   ]
  },
  {
   "cell_type": "code",
   "execution_count": 137,
   "metadata": {
    "collapsed": false
   },
   "outputs": [
    {
     "data": {
      "text/plain": [
       "[u\"Row(bounding_box=Row(coordinates=[[[-74.289406, 40.88257], [-74.289406, 41.014136], [-74.195413, 41.014136], [-74.195413, 40.88257]]], type=u'Polygon'), full_name=u'Wayne, NJ', text=u'TheList', occurrence=u'1493392012864')\"]"
      ]
     },
     "execution_count": 137,
     "metadata": {},
     "output_type": "execute_result"
    }
   ],
   "source": [
    "toplocations.take(1)"
   ]
  },
  {
   "cell_type": "code",
   "execution_count": 138,
   "metadata": {
    "collapsed": false
   },
   "outputs": [
    {
     "data": {
      "text/plain": [
       "[u'-74.289406, 40.88257; -74.289406, 41.014136; -74.195413, 41.014136; -74.195413, 40.88257;Wayne, NJ;TheList;1493392012864',\n",
       " u'-121.576613, 38.43792; -121.576613, 38.685524; -121.362715, 38.685524; -121.362715, 38.43792;Sacramento, CA;photo;1493392016065',\n",
       " u'-121.576613, 38.43792; -121.576613, 38.685524; -121.362715, 38.685524; -121.362715, 38.43792;Sacramento, CA;parc;1493392016065',\n",
       " u'-95.823268, 29.522325; -95.823268, 30.154665; -95.069705, 30.154665; -95.069705, 29.522325;Houston, TX;MakeTodayBetterIn4Words;1493392017103',\n",
       " u'-118.431436, 34.011385; -118.431436, 34.037107; -118.387635, 34.037107; -118.387635, 34.011385;Palms, Los Angeles;First100days;1493392019758']"
      ]
     },
     "execution_count": 138,
     "metadata": {},
     "output_type": "execute_result"
    }
   ],
   "source": [
    "remove = toplocations.map(lambda x: x.replace(\"Row(bounding_box=Row(coordinates=[[[\", \"\"))\n",
    "remove = remove.map(lambda x: x.replace(\"]], type=u'Polygon'), full_name=u'\", \",\"))\n",
    "remove = remove.map(lambda x: x.replace(\", occurrence=u\", \";\"))\n",
    "remove = remove.map(lambda x: x.replace(\", text=u\", \";\"))\n",
    "final = remove.map(lambda x: x.replace(\")\", \"\").replace(\"],\", ';').replace('[', '').replace(']', '').replace(\"'\", ''))\n",
    "\n",
    "final.take(5)"
   ]
  },
  {
   "cell_type": "code",
   "execution_count": 139,
   "metadata": {
    "collapsed": false
   },
   "outputs": [
    {
     "name": "stdout",
     "output_type": "stream",
     "text": [
      "<class 'pyspark.rdd.PipelinedRDD'>\n"
     ]
    }
   ],
   "source": [
    "def mapper(k1v1s): \n",
    "    for k1v1 in k1v1s:\n",
    "        k = k1v1.split(';')\n",
    "        x_co = float(k[0].split(',')[0]) + float(k[1].split(',')[0])+ float(k[2].split(',')[0])+float(k[3].split(',')[0])\n",
    "        x_co = x_co/4\n",
    "        y_co = float(k[0].split(',')[1]) + float(k[1].split(',')[1])+ float(k[2].split(',')[1])+float(k[3].split(',')[1])\n",
    "        y_co = y_co/4\n",
    "        yield (round(y_co,6), round(x_co, 6), k[4], str(k[5]).lower(),int(k[6]))\n",
    "\n",
    "\n",
    "coordinates = final.mapPartitions(mapper)\n",
    "coordinates.take(1)\n",
    "print (type(coordinates))"
   ]
  },
  {
   "cell_type": "code",
   "execution_count": 142,
   "metadata": {
    "collapsed": false
   },
   "outputs": [],
   "source": [
    "def mapper_hashtags(k1v1s):\n",
    "    for k1v1 in k1v1s:\n",
    "        yield (k1v1[2],(k1v1[3]+' '))\n",
    "        \n",
    "def mapper2((key, value)):\n",
    "    for word in value.split():\n",
    "        if len(word)>0:\n",
    "            yield ((key,word),1) \n",
    "            \n",
    "def mapper3(k1v1s):\n",
    "    for k,v in k1v1s:\n",
    "        yield (k,v)\n",
    "        \n",
    "def reducer3((key, value)):\n",
    "    return (key , value)\n",
    "    \n",
    "        \n",
    "#     return (k1, summ)\n",
    "\n",
    "# coordinates.mapPartitions(mapper_hashtags).groupByKey().collect()\n",
    "\n",
    "# coordinates.mapPartitions(mapper_hashtags).mapValues(mapper2).take(5) #reduce(reducer_hash).take(10)\n",
    "coo = coordinates.mapPartitions(mapper_hashtags).reduceByKey(lambda x,y: (x+y))\n",
    "# coo.take(5)\n",
    "\n",
    "f = coo.flatMap(mapper2).groupByKey().mapValues(lambda values: sum(values))\n",
    "# f.take(10)\n",
    "# f.mapValues(lambda x : x > 2).take(10)\n",
    "f = f.toLocalIterator()\n",
    "\n",
    "# f = f.toLocalIterator()\n",
    "# print next(coord)[0]"
   ]
  },
  {
   "cell_type": "code",
   "execution_count": 143,
   "metadata": {
    "collapsed": false
   },
   "outputs": [],
   "source": [
    "loclist = [] \n",
    "\n",
    "for i in f:\n",
    "    if i[1] >= 5:\n",
    "        loclist.append([i[0][0],i[0][1],i[1]])\n",
    "\n",
    "# print loclist"
   ]
  },
  {
   "cell_type": "code",
   "execution_count": 144,
   "metadata": {
    "collapsed": false
   },
   "outputs": [
    {
     "name": "stdout",
     "output_type": "stream",
     "text": [
      "[[u'Washington, DC', 'dcfamily', 7], [u'Manhattan, NY', 'fyrefestival', 16], [u'Montgomery, AL', 'myasu', 21], [u'Florida, USA', 'maga', 6], [u'Washington, USA', 'featuring', 15], [u'Florida, USA', 'jaguars', 5], [u'Waterbury, CT', 'russia', 22], [u'Washington, USA', 'hot', 5], [u'Washington, USA', 'hitsingle', 15], [u'Waterbury, CT', 'foxnews', 22], [u'Houston, TX', 'nfldraft', 16], [u'Washington, USA', 'iknowyouroutthere', 5], [u'Surrey, British Columbia', 'bcpoli', 5], [u'Georgia, USA', 'nfldraft', 14], [u'Huntsville, TX', 'shsuadpiderbydays2k17', 5], [u'Rockville, MD', 'grime', 5], [u'Washington, USA', 'kickassmusic', 5], [u'Knoxville, TN', 'nfldraft', 10], [u'Fort Worth, TX', 'nfldraft', 5], [u'Rockville, MD', 'nyhiphop', 5], [u'Los Angeles, CA', 'fyrefestival', 28], [u'Hemet, CA', 'retweet', 5], [u'Denton, TX', 'hepoolshenanigans', 5], [u'Seattle, WA', 'fyrefestival', 14], [u'Washington, USA', 'follow', 15], [u'Washington, USA', 'discover', 15], [u'Riverside, CA', 'springsplashucr', 5], [u'Florida, USA', 'nfldraft', 22], [u'Nacogdoches, TX', 'chaosx', 6], [u'Los Angeles, CA', 'edclv2017', 5], [u'Los Angeles, CA', 'nationalsuperheroday', 6], [u'Youngstown, OH', 'nfldraft', 5], [u'Rockville, MD', 'ukhiphop', 8], [u'Modesto, CA', 'nfldraft', 5], [u'Washington, DC', 'wizhawks', 5], [u'Pennsylvania, USA', 'nfldraft', 10], [u'Houston, TX', 'mmdt', 10], [u'College Station, TX', 'nfldraft', 5], [u'Texas, USA', 'texans', 5], [u'Austin, TX', 'nfldraft', 12], [u'Charlotte, NC', 'nfldraft', 12], [u'Manhattan, NY', 'nationalsuperheroday', 8], [u'Chicago, IL', 'imtheone', 7], [u'Chicago, IL', 'nfldraft', 9], [u'Rockville, MD', 'ukrap', 5], [u'Mesa, AZ', 'sar\\\\u0131lbana', 12], [u'Philadelphia, PA', 'nfldraft', 19], [u'California, USA', 'nfldraft', 5], [u'Falls Church, VA', '\\\\u0627\\\\u0633\\\\u062a\\\\u0634\\\\u0647\\\\u0627\\\\u062f_\\\\u0639\\\\u0633\\\\u0643\\\\u0631\\\\u064a_\\\\u0648\\\\u062e\\\\u0637\\\\u0641_\\\\u0627\\\\u062e\\\\u0631_\\\\u0627\\\\u0644\\\\u0642\\\\u0637\\\\u064a\\\\u0641', 5], [u'Houston, TX', 'havenomercy', 7], [u'Manhattan, NY', '1gottago', 14], [u'Memphis, TN', 'havenomercy', 12], [u'Washington, USA', 'fan', 15], [u'Dallas, TX', 'cowboysdraft', 6], [u'Waterbury, CT', 'northkorea', 22], [u'Ottawa, Ontario', 'hip613', 9], [u'Ohio, USA', 'nfldraft', 9], [u'South Carolina, USA', 'gamenite', 6], [u'Houston, TX', 'texans', 9], [u'Ville Platte, LA', 'nfldraft', 5], [u'Columbus, OH', 'nfldraft', 5], [u'Huntsville, TX', 'shsuderbydays2k17', 8], [u'Washington, USA', 'nowplaying', 20], [u'Virginia, USA', 'nfldraft', 6], [u'Las Vegas, NV', 'nfldraft', 5], [u'Florida, USA', 'trumptrain', 5], [u'South Carolina, USA', 'gamecocks', 5], [u'Lanham, MD', 'finewomenfriday', 13], [u'Washington, USA', 'kendulinmusic', 5], [u'Dallas, TX', 'nfldraft', 5], [u'Chicago, IL', 'fyrefestival', 16], [u'Texas, USA', 'cowboysdraft', 7], [u'Texas, USA', 'nfldraft', 22], [u'Houston, TX', 'fyrefestival', 8], [u'Toledo, OH', 'nfldraft', 5], [u'Washington, USA', 'rock', 5], [u'Bourbonnais, IL', 'mvfree', 14], [u'Iowa City, IA', 'hawkeyes', 5], [u'Columbus, GA', 'mvfree', 14], [u'Toronto, Ontario', 'fyrefestival', 6], [u'Los Angeles, CA', 'nfldraft', 12], [u'Mississippi, USA', 'nfldraft', 7], [u'Chicago, IL', 'blackhawks', 5], [u'Atlanta, GA', 'imtheone', 5], [u'Rockville, MD', 'hiphop', 10], [u'Hemet, CA', 'nationalsuperheroday', 5], [u'Charlotte, NC', 'panthers', 5], [u'Malibu, CA', '5sosfam', 5], [u'Los Angeles, CA', 'imtheone', 6], [u'Rockville, MD', 'hiphopheads', 8], [u'Baton Rouge, LA', 'nfldraft', 8], [u'Marietta, GA', '1gottago', 6], [u'New Orleans, LA', 'nfldraft', 5], [u'San Francisco, CA', 'fyrefestival', 7], [u'Chicago, IL', 'nationalsuperheroday', 10], [u'Eugene, OR', 'goducks', 8], [u'Indianapolis, IN', 'nfldraft', 5], [u'La Verne, CA', 'fyrefestival', 9], [u'Georgia, USA', 'fyrefestival', 7], [u'Rockville, MD', 'rap', 6]]\n"
     ]
    }
   ],
   "source": [
    "print loclist\n"
   ]
  },
  {
   "cell_type": "code",
   "execution_count": 145,
   "metadata": {
    "collapsed": true
   },
   "outputs": [],
   "source": [
    "import csv\n",
    "\n",
    "def writeRecords(records):\n",
    "    with open('hashtagmap2.csv', 'w') as csvfile:\n",
    "        field = ['location_name', 'hash_tag', 'ht_count']\n",
    "        writer = csv.DictWriter(csvfile, fieldnames=field)\n",
    "\n",
    "        writer.writeheader()\n",
    "        for record in records:\n",
    "            writer.writerow({'location_name': record[0], 'hash_tag': record[1], 'ht_count': record[2]})"
   ]
  },
  {
   "cell_type": "code",
   "execution_count": 146,
   "metadata": {
    "collapsed": false
   },
   "outputs": [],
   "source": [
    "# coo = coordinates.toLocalIterator()\n",
    "writeRecords(loclist)"
   ]
  },
  {
   "cell_type": "code",
   "execution_count": null,
   "metadata": {
    "collapsed": true
   },
   "outputs": [],
   "source": [
    "coo.registerTempTable('toplocations')"
   ]
  },
  {
   "cell_type": "code",
   "execution_count": null,
   "metadata": {
    "collapsed": true
   },
   "outputs": [],
   "source": [
    "result = timeline.join(timeline2, timeline.date == timeline2.date_)"
   ]
  }
 ],
 "metadata": {
  "anaconda-cloud": {},
  "kernelspec": {
   "display_name": "Python 2",
   "language": "python",
   "name": "python2"
  },
  "language_info": {
   "codemirror_mode": {
    "name": "ipython",
    "version": 2
   },
   "file_extension": ".py",
   "mimetype": "text/x-python",
   "name": "python",
   "nbconvert_exporter": "python",
   "pygments_lexer": "ipython2",
   "version": "2.7.13"
  }
 },
 "nbformat": 4,
 "nbformat_minor": 1
}
