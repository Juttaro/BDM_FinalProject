{
 "cells": [
  {
   "cell_type": "code",
   "execution_count": 1,
   "metadata": {
    "collapsed": false
   },
   "outputs": [
    {
     "data": {
      "text/plain": [
       "<pyspark.context.SparkContext at 0x10522f590>"
      ]
     },
     "execution_count": 1,
     "metadata": {},
     "output_type": "execute_result"
    }
   ],
   "source": [
    "sc"
   ]
  },
  {
   "cell_type": "code",
   "execution_count": 90,
   "metadata": {
    "collapsed": false
   },
   "outputs": [],
   "source": [
    "import json \n",
    "import csv \n",
    "import pandas\n",
    "from pyspark.sql import Row\n",
    "from pyspark.sql.column import Column\n",
    "from pyspark.sql.types import StructType, StructField, IntegerType, StringType"
   ]
  },
  {
   "cell_type": "code",
   "execution_count": 158,
   "metadata": {
    "collapsed": false
   },
   "outputs": [
    {
     "name": "stdout",
     "output_type": "stream",
     "text": [
      "+--------------------+--------------------+\n",
      "|           copyright|            response|\n",
      "+--------------------+--------------------+\n",
      "|Copyright (c) 201...|[WrappedArray([58...|\n",
      "+--------------------+--------------------+\n",
      "\n",
      "root\n",
      " |-- copyright: string (nullable = true)\n",
      " |-- response: struct (nullable = true)\n",
      " |    |-- docs: array (nullable = true)\n",
      " |    |    |-- element: struct (containsNull = true)\n",
      " |    |    |    |-- _id: string (nullable = true)\n",
      " |    |    |    |-- abstract: string (nullable = true)\n",
      " |    |    |    |-- blog: array (nullable = true)\n",
      " |    |    |    |    |-- element: string (containsNull = true)\n",
      " |    |    |    |-- byline: string (nullable = true)\n",
      " |    |    |    |-- document_type: string (nullable = true)\n",
      " |    |    |    |-- headline: struct (nullable = true)\n",
      " |    |    |    |    |-- content_kicker: string (nullable = true)\n",
      " |    |    |    |    |-- kicker: string (nullable = true)\n",
      " |    |    |    |    |-- main: string (nullable = true)\n",
      " |    |    |    |    |-- print_headline: string (nullable = true)\n",
      " |    |    |    |-- keywords: array (nullable = true)\n",
      " |    |    |    |    |-- element: struct (containsNull = true)\n",
      " |    |    |    |    |    |-- is_major: string (nullable = true)\n",
      " |    |    |    |    |    |-- name: string (nullable = true)\n",
      " |    |    |    |    |    |-- rank: string (nullable = true)\n",
      " |    |    |    |    |    |-- value: string (nullable = true)\n",
      " |    |    |    |-- lead_paragraph: string (nullable = true)\n",
      " |    |    |    |-- multimedia: array (nullable = true)\n",
      " |    |    |    |    |-- element: struct (containsNull = true)\n",
      " |    |    |    |    |    |-- height: long (nullable = true)\n",
      " |    |    |    |    |    |-- legacy: struct (nullable = true)\n",
      " |    |    |    |    |    |    |-- thumbnail: string (nullable = true)\n",
      " |    |    |    |    |    |    |-- thumbnailheight: string (nullable = true)\n",
      " |    |    |    |    |    |    |-- thumbnailwidth: string (nullable = true)\n",
      " |    |    |    |    |    |    |-- wide: string (nullable = true)\n",
      " |    |    |    |    |    |    |-- wideheight: string (nullable = true)\n",
      " |    |    |    |    |    |    |-- widewidth: string (nullable = true)\n",
      " |    |    |    |    |    |    |-- xlarge: string (nullable = true)\n",
      " |    |    |    |    |    |    |-- xlargeheight: string (nullable = true)\n",
      " |    |    |    |    |    |    |-- xlargewidth: string (nullable = true)\n",
      " |    |    |    |    |    |-- subtype: string (nullable = true)\n",
      " |    |    |    |    |    |-- type: string (nullable = true)\n",
      " |    |    |    |    |    |-- url: string (nullable = true)\n",
      " |    |    |    |    |    |-- width: long (nullable = true)\n",
      " |    |    |    |-- news_desk: string (nullable = true)\n",
      " |    |    |    |-- print_page: string (nullable = true)\n",
      " |    |    |    |-- pub_date: string (nullable = true)\n",
      " |    |    |    |-- section_name: string (nullable = true)\n",
      " |    |    |    |-- slideshow_credits: string (nullable = true)\n",
      " |    |    |    |-- snippet: string (nullable = true)\n",
      " |    |    |    |-- source: string (nullable = true)\n",
      " |    |    |    |-- subsection_name: string (nullable = true)\n",
      " |    |    |    |-- type_of_material: string (nullable = true)\n",
      " |    |    |    |-- web_url: string (nullable = true)\n",
      " |    |    |    |-- word_count: string (nullable = true)\n",
      " |    |-- meta: struct (nullable = true)\n",
      " |    |    |-- hits: long (nullable = true)\n",
      "\n"
     ]
    }
   ],
   "source": [
    "#archive = open('archivejan1.json', 'r')\n",
    "df = spark.read.json('archivejan1.json')\n",
    "df.show()\n",
    "df.printSchema()"
   ]
  },
  {
   "cell_type": "code",
   "execution_count": 159,
   "metadata": {
    "collapsed": false
   },
   "outputs": [],
   "source": [
    "df = df.select('response.docs.keywords')\n",
    "# df = df.select(Column('keywords'))"
   ]
  },
  {
   "cell_type": "code",
   "execution_count": 98,
   "metadata": {
    "collapsed": false
   },
   "outputs": [
    {
     "name": "stdout",
     "output_type": "stream",
     "text": [
      "root\n",
      " |-- keywords: array (nullable = true)\n",
      " |    |-- element: array (containsNull = true)\n",
      " |    |    |-- element: struct (containsNull = true)\n",
      " |    |    |    |-- is_major: string (nullable = true)\n",
      " |    |    |    |-- name: string (nullable = true)\n",
      " |    |    |    |-- rank: string (nullable = true)\n",
      " |    |    |    |-- value: string (nullable = true)\n",
      "\n"
     ]
    }
   ],
   "source": [
    "df.printSchema()"
   ]
  },
  {
   "cell_type": "code",
   "execution_count": 157,
   "metadata": {
    "collapsed": false
   },
   "outputs": [
    {
     "ename": "TypeError",
     "evalue": "'list' object is not callable",
     "output_type": "error",
     "traceback": [
      "\u001b[0;31m---------------------------------------------------------------------------\u001b[0m",
      "\u001b[0;31mTypeError\u001b[0m                                 Traceback (most recent call last)",
      "\u001b[0;32m<ipython-input-157-cd0f7eb000b4>\u001b[0m in \u001b[0;36m<module>\u001b[0;34m()\u001b[0m\n\u001b[1;32m      1\u001b[0m \u001b[0mtype\u001b[0m\u001b[0;34m(\u001b[0m\u001b[0mdf\u001b[0m\u001b[0;34m[\u001b[0m\u001b[0;36m0\u001b[0m\u001b[0;34m]\u001b[0m\u001b[0;34m)\u001b[0m\u001b[0;34m\u001b[0m\u001b[0m\n\u001b[0;32m----> 2\u001b[0;31m \u001b[0mdf\u001b[0m\u001b[0;34m.\u001b[0m\u001b[0mdtypes\u001b[0m\u001b[0;34m(\u001b[0m\u001b[0;36m0\u001b[0m\u001b[0;34m)\u001b[0m\u001b[0;34m\u001b[0m\u001b[0m\n\u001b[0m\u001b[1;32m      3\u001b[0m \u001b[0;34m\u001b[0m\u001b[0m\n\u001b[1;32m      4\u001b[0m \u001b[0mdfi\u001b[0m \u001b[0;34m=\u001b[0m \u001b[0mdf\u001b[0m\u001b[0;34m.\u001b[0m\u001b[0mfirst\u001b[0m\u001b[0;34m(\u001b[0m\u001b[0;34m)\u001b[0m\u001b[0;34m[\u001b[0m\u001b[0;36m0\u001b[0m\u001b[0;34m]\u001b[0m\u001b[0;34m\u001b[0m\u001b[0m\n\u001b[1;32m      5\u001b[0m \u001b[0;34m\u001b[0m\u001b[0m\n",
      "\u001b[0;31mTypeError\u001b[0m: 'list' object is not callable"
     ]
    }
   ],
   "source": [
    "type(df[0])\n",
    "dfi = df.first()[0]\n",
    "\n",
    "# dfi.dtypes\n",
    "# for i in range(len(dfi)):\n",
    "#     if dfi[i][0:4] in dfi:\n",
    "#         print dfi[i][0:4]\n",
    "#         break\n",
    "        \n",
    "# dfi[0][0]['value']\n",
    "# print df.first()[0][0] , '\\n'\n",
    "# print df.first()[0][0][0], '\\n' # were looking for key words in field [3]\n",
    "# print type(df.first()[0][0][0])\n",
    "# print df['keywords'],'\\n'\n",
    "# print df[0][0]\n",
    "# df.show()"
   ]
  },
  {
   "cell_type": "code",
   "execution_count": null,
   "metadata": {
    "collapsed": false
   },
   "outputs": [],
   "source": []
  },
  {
   "cell_type": "code",
   "execution_count": null,
   "metadata": {
    "collapsed": true
   },
   "outputs": [],
   "source": [
    "# df = df.select('response.docs.*')\n",
    "# df = df.select(column('response'))\n",
    "\n",
    "\n",
    "# df.createOrReplaceTempView(\"Archive\")\n",
    "\n",
    "# newdf = spark.sql(\"SELECT keywords FROM \")\n",
    "\n",
    "# teenagerNamesDF = spark.sql(\"SELECT name FROM people WHERE age BETWEEN 13 AND 19\")\n",
    "# teenagerNamesDF.show()\n"
   ]
  }
 ],
 "metadata": {
  "kernelspec": {
   "display_name": "Python 2",
   "language": "python",
   "name": "python2"
  },
  "language_info": {
   "codemirror_mode": {
    "name": "ipython",
    "version": 2
   },
   "file_extension": ".py",
   "mimetype": "text/x-python",
   "name": "python",
   "nbconvert_exporter": "python",
   "pygments_lexer": "ipython2",
   "version": "2.7.13"
  }
 },
 "nbformat": 4,
 "nbformat_minor": 2
}
