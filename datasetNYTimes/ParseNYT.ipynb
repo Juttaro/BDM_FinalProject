{
 "cells": [
  {
   "cell_type": "code",
   "execution_count": 48,
   "metadata": {
    "collapsed": false
   },
   "outputs": [
    {
     "data": {
      "text/plain": [
       "<pyspark.context.SparkContext at 0x10d9f5610>"
      ]
     },
     "execution_count": 48,
     "metadata": {},
     "output_type": "execute_result"
    }
   ],
   "source": [
    "sc"
   ]
  },
  {
   "cell_type": "code",
   "execution_count": 49,
   "metadata": {
    "collapsed": false
   },
   "outputs": [],
   "source": [
    "import json \n",
    "import re\n",
    "import os\n",
    "import glob"
   ]
  },
  {
   "cell_type": "code",
   "execution_count": 50,
   "metadata": {
    "collapsed": false
   },
   "outputs": [],
   "source": [
    "def collection(df):\n",
    "    subjectCollection = open('SubjectCollection.txt', 'a')\n",
    "    personsCollection = open('PersonsCollection.txt', 'a')\n",
    "    organizationCollection = open('OrganizationCollection.txt', 'a')\n",
    "    #creativeCollection = open('CreativeCollection.txt', 'a')\n",
    "    \n",
    "    for i in range(len(df)):\n",
    "        for j in range(len(df[i])):\n",
    "            if df[i][j][1] == 'subject':\n",
    "                subject = re.sub(r'[^a-zA-Z]', ' ', df[i][j][3]).lower()\n",
    "                for word in subject.split():\n",
    "                    subjectCollection.write(word+'\\n')\n",
    "                \n",
    "            elif df[i][j][1] == 'persons':\n",
    "                person = re.sub(r'[^a-zA-Z]', ' ', df[i][j][3]).lower()\n",
    "                personsCollection.write(person+'\\n')\n",
    "            \n",
    "            elif df[i][j][1] == 'organizations':\n",
    "                person = re.sub(r'[^a-zA-Z]', ' ', df[i][j][3]).lower()\n",
    "                organizationCollection.write(person+'\\n')\n",
    "# DONT NEED            \n",
    "#             elif df[i][j][1] == 'creative_works':\n",
    "#                 person = re.sub(r'[^a-zA-Z]', ' ', df[i][j][3]).lower()\n",
    "#                 creativeCollection.write(person+'\\n')\n",
    "            \n",
    "#             else:\n",
    "#                 print df[i][j][1]\n",
    "                \n",
    "    subjectCollection.close()\n",
    "    personsCollection.close()\n",
    "    organizationCollection.close()"
   ]
  },
  {
   "cell_type": "code",
   "execution_count": 51,
   "metadata": {
    "collapsed": false
   },
   "outputs": [
    {
     "name": "stdout",
     "output_type": "stream",
     "text": [
      "/Users/Enzo/anaconda2/CSC_599_WORK\n"
     ]
    }
   ],
   "source": [
    "#archive = open('archivejan1.json', 'r')\n",
    "# os.listdir('~')\n",
    "# df.show()\n",
    "# df.printSchema()\n",
    "cwd = os.getcwd()\n",
    "print cwd\n",
    "for i in  glob.glob(cwd+'/archive*'):\n",
    "    df = spark.read.json(i)\n",
    "    df = df.select('response.docs.keywords')\n",
    "    df = df.first()[0]\n",
    "    collection(df)"
   ]
  },
  {
   "cell_type": "code",
   "execution_count": 41,
   "metadata": {
    "collapsed": false
   },
   "outputs": [
    {
     "name": "stdout",
     "output_type": "stream",
     "text": [
      "[Row(is_major=u'N', name=u'subject', rank=u'1', value=u'Cyberwarfare and Defense'), Row(is_major=u'N', name=u'subject', rank=u'2', value=u'Presidential Election of 2016'), Row(is_major=u'N', name=u'persons', rank=u'3', value=u'Merkel, Angela'), Row(is_major=u'N', name=u'persons', rank=u'4', value=u'Putin, Vladimir V')]\n",
      "======================================\n",
      "Row(is_major=u'N', name=u'subject', rank=u'1', value=u'Cyberwarfare and Defense')\n",
      "5206\n",
      "4\n"
     ]
    }
   ],
   "source": [
    "print df[0]\n",
    "print \"======================================\"\n",
    "print df[0][0]\n",
    "print len(df)\n",
    "print len(df[0])"
   ]
  },
  {
   "cell_type": "code",
   "execution_count": 52,
   "metadata": {
    "collapsed": false
   },
   "outputs": [
    {
     "name": "stdout",
     "output_type": "stream",
     "text": [
      "/Users/Enzo/anaconda2/CSC_599_WORK\n"
     ]
    }
   ],
   "source": [
    "rddPersons = sc.textFile(cwd+\"/PersonsCollection.txt\")\n",
    "rddSubjects = sc.textFile(cwd+\"SubjectCollection.txt\")\n",
    "rddOrganizations = sc.textFile(cwd+\"OrganizationCollection.txt\")\n",
    "\n",
    "print cwd"
   ]
  },
  {
   "cell_type": "code",
   "execution_count": 53,
   "metadata": {
    "collapsed": false
   },
   "outputs": [
    {
     "data": {
      "text/plain": [
       "[u'trump  donald j',\n",
       " u'strine  leo e jr',\n",
       " u'syndergaard  noah',\n",
       " u'montero  rafael',\n",
       " u'collins  terry l',\n",
       " u'soros  george',\n",
       " u'orban  viktor',\n",
       " u'de blasio  bill',\n",
       " u'campbell  thomas p',\n",
       " u'coburn  erin']"
      ]
     },
     "execution_count": 53,
     "metadata": {},
     "output_type": "execute_result"
    }
   ],
   "source": [
    "rddPersons.take(10)"
   ]
  },
  {
   "cell_type": "code",
   "execution_count": 33,
   "metadata": {
    "collapsed": false
   },
   "outputs": [
    {
     "data": {
      "text/plain": [
       "[(u'reider  jonah', 1),\n",
       " (u'shannon  christopher', 1),\n",
       " (u'litiatco  armando', 2),\n",
       " (u'zeid ra ad zeid al hussein', 1),\n",
       " (u'magoon  daniel j', 1),\n",
       " (u'chozick  amy', 1),\n",
       " (u'wells  jane', 2),\n",
       " (u'afineevsky  evgeny         ', 2),\n",
       " (u'browder  ben', 1),\n",
       " (u'garrett  myles         ', 3)]"
      ]
     },
     "execution_count": 33,
     "metadata": {},
     "output_type": "execute_result"
    }
   ],
   "source": [
    "wc = rddPersons.map(lambda x: (x, 1)) \\\n",
    "        .reduceByKey(lambda x,y: x+y)\n",
    "\n",
    "wc.take(10)"
   ]
  },
  {
   "cell_type": "code",
   "execution_count": 45,
   "metadata": {
    "collapsed": false
   },
   "outputs": [
    {
     "data": {
      "text/plain": [
       "list"
      ]
     },
     "execution_count": 45,
     "metadata": {},
     "output_type": "execute_result"
    }
   ],
   "source": [
    "import heapq\n",
    "\n",
    "def mapper2(counts):\n",
    "    yield heapq.nlargest(100, counts, key=lambda x: x[1])\n",
    "    \n",
    "def reducer2(top31,top32):\n",
    "    return heapq.nlargest(100, top31 + top32, key=lambda x: x[1])\n",
    "\n",
    "\n",
    "top3 = wc.mapPartitions(mapper2).reduce(reducer2)\n",
    "type(top3)"
   ]
  },
  {
   "cell_type": "code",
   "execution_count": 46,
   "metadata": {
    "collapsed": false
   },
   "outputs": [
    {
     "data": {
      "text/plain": [
       "[(u'trump  donald j', 3252),\n",
       " (u'obama  barack', 292),\n",
       " (u'gorsuch  neil m', 133),\n",
       " (u'putin  vladimir v', 133),\n",
       " (u'sessions  jefferson b iii', 120),\n",
       " (u'de blasio  bill', 117),\n",
       " (u'tillerson  rex w', 89),\n",
       " (u'cuomo  andrew m', 88),\n",
       " (u'assad  bashar al ', 88),\n",
       " (u'ryan  paul d jr', 84),\n",
       " (u'bannon  stephen k', 81),\n",
       " (u'xi jinping', 76),\n",
       " (u'trump  ivanka', 73),\n",
       " (u'devos  elizabeth         ', 72),\n",
       " (u'erdogan  recep tayyip', 70),\n",
       " (u'le pen  marine', 69),\n",
       " (u'kim jong un', 68),\n",
       " (u'spicer  sean m         ', 67),\n",
       " (u'flynn  michael t', 64),\n",
       " (u'may  theresa m', 63),\n",
       " (u'clinton  hillary rodham', 63),\n",
       " (u'o reilly  bill', 61),\n",
       " (u'conway  kellyanne', 57),\n",
       " (u'kushner  jared', 54),\n",
       " (u'merkel  angela', 51),\n",
       " (u'netanyahu  benjamin', 48),\n",
       " (u'pence  mike', 46),\n",
       " (u'anthony  carmelo', 44),\n",
       " (u'colbert  stephen', 43),\n",
       " (u'pruitt  scott', 40),\n",
       " (u'trump  melania', 40),\n",
       " (u'comey  james b', 39),\n",
       " (u'duterte  rodrigo', 39),\n",
       " (u'mcconnell  mitch', 38),\n",
       " (u'mattis  james n', 38),\n",
       " (u'macron  emmanuel         ', 37),\n",
       " (u'fallon  jimmy', 37),\n",
       " (u'park geun hye', 34),\n",
       " (u'knowles  beyonce', 32),\n",
       " (u'trudeau  justin', 32),\n",
       " (u'fillon  francois', 31),\n",
       " (u'kim jong nam', 29),\n",
       " (u'price  thomas e         ', 28),\n",
       " (u'kimmel  jimmy', 28),\n",
       " (u'haley  nikki r', 28),\n",
       " (u'corden  james         ', 28),\n",
       " (u'francis', 27),\n",
       " (u'bush  george w', 26),\n",
       " (u'federer  roger', 26),\n",
       " (u'kelly  john f         ', 26),\n",
       " (u'abe  shinzo', 26),\n",
       " (u'mnuchin  steven t', 25),\n",
       " (u'warren  elizabeth', 25),\n",
       " (u'musk  elon', 25),\n",
       " (u'williams  serena', 25),\n",
       " (u'kalanick  travis', 25),\n",
       " (u'brady  tom', 24),\n",
       " (u'meyers  seth', 24),\n",
       " (u'noah  trevor         ', 24),\n",
       " (u'mcmaster  h r', 24),\n",
       " (u'wilders  geert', 24),\n",
       " (u'westbrook  russell', 23),\n",
       " (u'jackson  phil         ', 23),\n",
       " (u'bharara  preet', 23),\n",
       " (u'garland  merrick b', 22),\n",
       " (u'sisi  abdel fattah el ', 22),\n",
       " (u'streep  meryl', 22),\n",
       " (u'schumer  charles e', 21),\n",
       " (u'ailes  roger e', 20),\n",
       " (u'dolan  james l', 20),\n",
       " (u'nadal  rafael', 20),\n",
       " (u'zuckerberg  mark e', 20),\n",
       " (u'o brien  conan', 20),\n",
       " (u'pena nieto  enrique', 20),\n",
       " (u'priebus  reince r', 20),\n",
       " (u'james  lebron', 19),\n",
       " (u'baldwin  alec', 19),\n",
       " (u'christie  christopher j', 19),\n",
       " (u'nunes  devin g', 18),\n",
       " (u'nixon  richard milhous', 18),\n",
       " (u'ossoff  jon', 18),\n",
       " (u'modi  narendra', 18),\n",
       " (u'durant  kevin', 18),\n",
       " (u'obama  michelle', 18),\n",
       " (u'cohn  gary d', 18),\n",
       " (u'johnson  lyndon baines', 18),\n",
       " (u'maduro  nicolas', 17),\n",
       " (u'yellen  janet l', 17),\n",
       " (u'prince         ', 17),\n",
       " (u'roof  dylann storm', 17),\n",
       " (u'wang  alexander         ', 17),\n",
       " (u'moore  mary tyler', 16),\n",
       " (u'dao  david a         ', 16),\n",
       " (u'mccain  john', 16),\n",
       " (u'manafort  paul j', 16),\n",
       " (u'robart  james l', 16),\n",
       " (u'yiannopoulos  milo', 16),\n",
       " (u'scalia  antonin', 16),\n",
       " (u'lundqvist  henrik', 15),\n",
       " (u'guterres  antonio', 15)]"
      ]
     },
     "execution_count": 46,
     "metadata": {},
     "output_type": "execute_result"
    }
   ],
   "source": [
    "top3"
   ]
  },
  {
   "cell_type": "markdown",
   "metadata": {},
   "source": [
    "#### Look for   =>   Top100People.txt"
   ]
  },
  {
   "cell_type": "code",
   "execution_count": null,
   "metadata": {
    "collapsed": true
   },
   "outputs": [],
   "source": []
  }
 ],
 "metadata": {
  "kernelspec": {
   "display_name": "Python 2",
   "language": "python",
   "name": "python2"
  },
  "language_info": {
   "codemirror_mode": {
    "name": "ipython",
    "version": 2
   },
   "file_extension": ".py",
   "mimetype": "text/x-python",
   "name": "python",
   "nbconvert_exporter": "python",
   "pygments_lexer": "ipython2",
   "version": "2.7.13"
  }
 },
 "nbformat": 4,
 "nbformat_minor": 2
}
