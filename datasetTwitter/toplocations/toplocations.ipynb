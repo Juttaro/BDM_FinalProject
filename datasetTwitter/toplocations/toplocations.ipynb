{
 "cells": [
  {
   "cell_type": "code",
   "execution_count": 1,
   "metadata": {},
   "outputs": [
    {
     "data": {
      "text/plain": [
       "<pyspark.context.SparkContext at 0x7fe4a9789c90>"
      ]
     },
     "execution_count": 1,
     "metadata": {},
     "output_type": "execute_result"
    }
   ],
   "source": [
    "sc"
   ]
  },
  {
   "cell_type": "code",
   "execution_count": 3,
   "metadata": {},
   "outputs": [],
   "source": [
    "dfTweets = sqlContext.read.load('samplestream_twt.jsonl', format='json')\n",
    "# dfTweets.printSchema()"
   ]
  },
  {
   "cell_type": "code",
   "execution_count": 56,
   "metadata": {},
   "outputs": [
    {
     "name": "stdout",
     "output_type": "stream",
     "text": [
      "+--------------------+----------------+-------------+\n",
      "|        bounding_box|       full_name|   occurrence|\n",
      "+--------------------+----------------+-------------+\n",
      "|[WrappedArray(Wra...|   Millville, NJ|1494455868620|\n",
      "|[WrappedArray(Wra...|   Arkansas, USA|1494455868465|\n",
      "|[WrappedArray(Wra...|   Pittsburg, KS|1494455870393|\n",
      "|[WrappedArray(Wra...|      Downey, CA|1494455871012|\n",
      "|[WrappedArray(Wra...|      Austin, TX|1494455870905|\n",
      "|[WrappedArray(Wra...|Indianapolis, IN|1494455872670|\n",
      "|[WrappedArray(Wra...|        Lodi, NJ|1494455871877|\n",
      "|[WrappedArray(Wra...| Mercerville, NJ|1494455874700|\n",
      "|[WrappedArray(Wra...|   New York, USA|1494455874732|\n",
      "|[WrappedArray(Wra...|    Florida, USA|1494455874850|\n",
      "|[WrappedArray(Wra...|      Texas, USA|1494455876561|\n",
      "|[WrappedArray(Wra...|   Manhattan, NY|1494455876675|\n",
      "|[WrappedArray(Wra...|   Pittsburg, CA|1494455877895|\n",
      "|[WrappedArray(Wra...|   San Diego, CA|1494455878895|\n",
      "|[WrappedArray(Wra...|Rimouski, Québec|1494455879774|\n",
      "|[WrappedArray(Wra...|    Alabama, USA|1494455880711|\n",
      "|[WrappedArray(Wra...|  Long Beach, CA|1494455879673|\n",
      "|[WrappedArray(Wra...|  Santa Cruz, CA|1494455880735|\n",
      "|[WrappedArray(Wra...|Toronto, Ontario|1494455879854|\n",
      "|[WrappedArray(Wra...|      Queens, NY|1494455881712|\n",
      "+--------------------+----------------+-------------+\n",
      "only showing top 20 rows\n",
      "\n"
     ]
    }
   ],
   "source": [
    "retweet_status = dfTweets.select('place.bounding_box', 'place.full_name', 'timestamp_ms')\n",
    "retweet_status.registerTempTable('toplocations')\n",
    "occurrence = sqlContext.sql('select bounding_box, full_name, timestamp_ms as occurrence from toplocations').dropna() \n",
    "# toploc = occurrence.orderBy('occurrence', ascending=False) #order by descending order based on occurrence\n",
    "occurrence.show()"
   ]
  },
  {
   "cell_type": "code",
   "execution_count": 64,
   "metadata": {},
   "outputs": [],
   "source": [
    "# This command is what we use in the cluster.\n",
    "occurrence.rdd.saveAsTextFile('finaltoplocationsout')"
   ]
  },
  {
   "cell_type": "markdown",
   "metadata": {},
   "source": [
    "## After running the code above on cluster"
   ]
  },
  {
   "cell_type": "code",
   "execution_count": 65,
   "metadata": {
    "collapsed": true
   },
   "outputs": [],
   "source": [
    "toplocations = sc.textFile(\"finaltoplocationsout\")"
   ]
  },
  {
   "cell_type": "code",
   "execution_count": 66,
   "metadata": {},
   "outputs": [
    {
     "data": {
      "text/plain": [
       "[u\"Row(bounding_box=Row(coordinates=[[[-75.101446, 39.342878], [-75.101446, 39.429603], [-74.989836, 39.429603], [-74.989836, 39.342878]]], type=u'Polygon'), full_name=u'Millville, NJ', occurrence=u'1494455868620')\"]"
      ]
     },
     "execution_count": 66,
     "metadata": {},
     "output_type": "execute_result"
    }
   ],
   "source": [
    "toplocations.take(1)"
   ]
  },
  {
   "cell_type": "code",
   "execution_count": 67,
   "metadata": {},
   "outputs": [
    {
     "data": {
      "text/plain": [
       "[u'-75.101446, 39.342878; -75.101446, 39.429603; -74.989836, 39.429603; -74.989836, 39.342878;Millville, NJ;1494455868620',\n",
       " u'-94.61771, 33.004106; -94.61771, 36.499767; -89.644838, 36.499767; -89.644838, 33.004106;Arkansas, USA;1494455868465',\n",
       " u'-94.724428, 37.367357; -94.724428, 37.444178; -94.668019, 37.444178; -94.668019, 37.367357;Pittsburg, KS;1494455870393',\n",
       " u'-118.170429, 33.90245; -118.170429, 33.972897; -118.090423, 33.972897; -118.090423, 33.90245;Downey, CA;1494455871012',\n",
       " u'-97.928935, 30.127892; -97.928935, 30.518799; -97.580513, 30.518799; -97.580513, 30.127892;Austin, TX;1494455870905']"
      ]
     },
     "execution_count": 67,
     "metadata": {},
     "output_type": "execute_result"
    }
   ],
   "source": [
    "remove = toplocations.map(lambda x: x.replace(\"Row(bounding_box=Row(coordinates=[[[\", \"\"))\n",
    "remove = remove.map(lambda x: x.replace(\"]], type=u'Polygon'), full_name=u'\", \",\"))\n",
    "remove = remove.map(lambda x: x.replace(\", occurrence=u\", \";\"))\n",
    "final = remove.map(lambda x: x.replace(\")\", \"\").replace(\"],\", ';').replace('[', '').replace(']', '').replace(\"'\", ''))\n",
    "\n",
    "final.take(5)"
   ]
  },
  {
   "cell_type": "code",
   "execution_count": 68,
   "metadata": {},
   "outputs": [
    {
     "data": {
      "text/plain": [
       "[(39.38624, -75.045641, u'Millville, NJ', '1494455868620'),\n",
       " (34.751936, -92.131274, u'Arkansas, USA', '1494455868465'),\n",
       " (37.405767, -94.696224, u'Pittsburg, KS', '1494455870393'),\n",
       " (33.937674, -118.130426, u'Downey, CA', '1494455871012'),\n",
       " (30.323346, -97.754724, u'Austin, TX', '1494455870905')]"
      ]
     },
     "execution_count": 68,
     "metadata": {},
     "output_type": "execute_result"
    }
   ],
   "source": [
    "def mapper(k1v1s): \n",
    "    for k1v1 in k1v1s:\n",
    "        k = k1v1.split(';')\n",
    "        x_co = float(k[0].split(',')[0]) + float(k[1].split(',')[0])+ float(k[2].split(',')[0])+float(k[3].split(',')[0])\n",
    "        x_co = x_co/4\n",
    "        y_co = float(k[0].split(',')[1]) + float(k[1].split(',')[1])+ float(k[2].split(',')[1])+float(k[3].split(',')[1])\n",
    "        y_co = y_co/4\n",
    "        yield (round(y_co,6), round(x_co, 6), k[4], str(k[5]))\n",
    "\n",
    "coordinates = final.mapPartitions(mapper)\n",
    "coordinates.take(5)"
   ]
  },
  {
   "cell_type": "code",
   "execution_count": 69,
   "metadata": {
    "collapsed": true
   },
   "outputs": [],
   "source": [
    "import csv\n",
    "\n",
    "def writeRecords(records):\n",
    "    with open('coordinates.csv', 'w') as csvfile:\n",
    "        field = ['latitude', 'longitude', 'location','count']\n",
    "        writer = csv.DictWriter(csvfile, fieldnames=field)\n",
    "\n",
    "        writer.writeheader()\n",
    "        for record in records:\n",
    "            writer.writerow({'latitude': record[0], 'longitude': record[1], 'location': record[2], 'count': record[3]})"
   ]
  },
  {
   "cell_type": "code",
   "execution_count": 70,
   "metadata": {},
   "outputs": [],
   "source": [
    "coo = coordinates.toLocalIterator()\n",
    "writeRecords(coo)"
   ]
  },
  {
   "cell_type": "code",
   "execution_count": null,
   "metadata": {
    "collapsed": true
   },
   "outputs": [],
   "source": []
  }
 ],
 "metadata": {
  "anaconda-cloud": {},
  "kernelspec": {
   "display_name": "Python 2",
   "language": "python",
   "name": "python2"
  },
  "language_info": {
   "codemirror_mode": {
    "name": "ipython",
    "version": 2
   },
   "file_extension": ".py",
   "mimetype": "text/x-python",
   "name": "python",
   "nbconvert_exporter": "python",
   "pygments_lexer": "ipython2",
   "version": "2.7.13"
  }
 },
 "nbformat": 4,
 "nbformat_minor": 1
}
