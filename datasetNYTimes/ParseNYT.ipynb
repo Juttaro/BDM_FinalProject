{
 "cells": [
  {
   "cell_type": "code",
   "execution_count": 1,
   "metadata": {
    "collapsed": false
   },
   "outputs": [
    {
     "data": {
      "text/plain": [
       "<pyspark.context.SparkContext at 0x10b3fa550>"
      ]
     },
     "execution_count": 1,
     "metadata": {},
     "output_type": "execute_result"
    }
   ],
   "source": [
    "sc"
   ]
  },
  {
   "cell_type": "code",
   "execution_count": 2,
   "metadata": {
    "collapsed": false
   },
   "outputs": [],
   "source": [
    "import json \n",
    "import re\n",
    "import os\n",
    "import glob"
   ]
  },
  {
   "cell_type": "code",
   "execution_count": 3,
   "metadata": {
    "collapsed": false
   },
   "outputs": [],
   "source": [
    "def parsePersons(df):\n",
    "    personsCollection = open('PersonsCollection.txt', 'a')\n",
    "    for i in range(len(df)):\n",
    "        for j in range(len(df[i])):\n",
    "            if df[i][j][1] == 'persons':\n",
    "                person = re.sub(r'[^a-zA-Z]', ' ', df[i][j][3]).lower()\n",
    "                personsCollection.write(person+'\\n')\n",
    "\n",
    "def parseSubject(df):\n",
    "    subjectCollection = open('SubjectCollection.txt', 'a')\n",
    "    for i in range(len(df)):\n",
    "        for j in range(len(df[i])):\n",
    "            if df[i][j][1] == 'subject':\n",
    "                subject = re.sub(r'[^a-zA-Z]', ' ', df[i][j][3]).lower()\n",
    "                subjectCollection.write(subject+'\\n')"
   ]
  },
  {
   "cell_type": "code",
   "execution_count": 4,
   "metadata": {
    "collapsed": false
   },
   "outputs": [
    {
     "name": "stdout",
     "output_type": "stream",
     "text": [
      "/Users/jamesuttaro/Desktop/Spring 2017/Big Data - 59927/BDM_FinalProject/BDM_FinalProject/datasetNYTimes\n"
     ]
    }
   ],
   "source": [
    "#archive = open('archivejan1.json', 'r')\n",
    "# os.listdir('~')\n",
    "# df.show()\n",
    "# df.printSchema()\n",
    "cwd = os.getcwd()\n",
    "print cwd\n",
    "for i in  glob.glob(cwd+'/archive*'):\n",
    "    df = spark.read.json(i)\n",
    "    df = df.select('response.docs.keywords')\n",
    "    df = df.first()[0]\n",
    "    parsePersons(df)\n",
    "    parseSubject(df)"
   ]
  },
  {
   "cell_type": "code",
   "execution_count": 5,
   "metadata": {
    "collapsed": false
   },
   "outputs": [],
   "source": [
    "#df = df.select('response.docs.keywords')\n",
    "#df.printSchema()"
   ]
  },
  {
   "cell_type": "code",
   "execution_count": 6,
   "metadata": {
    "collapsed": false
   },
   "outputs": [],
   "source": [
    "#df = df.first()[0] # Selects all the entries inside keywwords"
   ]
  },
  {
   "cell_type": "code",
   "execution_count": 7,
   "metadata": {
    "collapsed": false
   },
   "outputs": [
    {
     "name": "stdout",
     "output_type": "stream",
     "text": [
      "[Row(isMajor=None, name=u'type_of_material', rank=u'1', value=u'News'), Row(isMajor=None, name=u'persons', rank=u'2', value=u'Abou Zeid, Mahmoud (1987- )'), Row(isMajor=None, name=u'persons', rank=u'3', value=u'Elshamy, Mohammed (1994- )'), Row(isMajor=None, name=u'subject', rank=u'4', value=u'Demonstrations, Protests, and Riots'), Row(isMajor=None, name=u'subject', rank=u'5', value=u'Photography'), Row(isMajor=None, name=u'subject', rank=u'6', value=u'Politics and Government'), Row(isMajor=None, name=u'glocations', rank=u'7', value=u'Egypt')]\n",
      "======================================\n",
      "Row(isMajor=None, name=u'type_of_material', rank=u'1', value=u'News')\n",
      "5457\n",
      "7\n"
     ]
    }
   ],
   "source": [
    "print df[0]\n",
    "print \"======================================\"\n",
    "print df[0][0]\n",
    "print len(df)\n",
    "print len(df[0])"
   ]
  },
  {
   "cell_type": "markdown",
   "metadata": {},
   "source": [
    "### MAP REDUCE ON TEXT FILES"
   ]
  },
  {
   "cell_type": "code",
   "execution_count": 11,
   "metadata": {
    "collapsed": false
   },
   "outputs": [
    {
     "name": "stdout",
     "output_type": "stream",
     "text": [
      "/Users/jamesuttaro/Desktop/Spring 2017/Big Data - 59927/BDM_FinalProject/BDM_FinalProject/datasetNYTimes\n"
     ]
    }
   ],
   "source": [
    "rdd = sc.textFile(cwd+\"/PersonsCollection.txt\")\n",
    "print cwd"
   ]
  },
  {
   "cell_type": "code",
   "execution_count": 13,
   "metadata": {
    "collapsed": false
   },
   "outputs": [
    {
     "data": {
      "text/plain": [
       "[(u'reider  jonah', 1),\n",
       " (u'shannon  christopher', 1),\n",
       " (u'litiatco  armando', 2),\n",
       " (u'zeid ra ad zeid al hussein', 1),\n",
       " (u'magoon  daniel j', 1),\n",
       " (u'chozick  amy', 1),\n",
       " (u'wells  jane', 2),\n",
       " (u'afineevsky  evgeny         ', 2),\n",
       " (u'browder  ben', 1),\n",
       " (u'garrett  myles         ', 3)]"
      ]
     },
     "execution_count": 13,
     "metadata": {},
     "output_type": "execute_result"
    }
   ],
   "source": [
    "rdd.map(lambda x: (x,1)) \\\n",
    "        .reduceByKey(lambda x,y: x+y) \\\n",
    "        .take(10)"
   ]
  },
  {
   "cell_type": "code",
   "execution_count": 19,
   "metadata": {
    "collapsed": false
   },
   "outputs": [
    {
     "data": {
      "text/plain": [
       "[u'trump  donald j',\n",
       " u'strine  leo e jr',\n",
       " u'syndergaard  noah',\n",
       " u'montero  rafael',\n",
       " u'collins  terry l',\n",
       " u'soros  george',\n",
       " u'orban  viktor',\n",
       " u'de blasio  bill',\n",
       " u'campbell  thomas p',\n",
       " u'coburn  erin']"
      ]
     },
     "execution_count": 19,
     "metadata": {},
     "output_type": "execute_result"
    }
   ],
   "source": [
    "rdd.take(10)"
   ]
  },
  {
   "cell_type": "code",
   "execution_count": 75,
   "metadata": {
    "collapsed": false
   },
   "outputs": [],
   "source": [
    "import heapq"
   ]
  },
  {
   "cell_type": "code",
   "execution_count": null,
   "metadata": {
    "collapsed": true
   },
   "outputs": [],
   "source": [
    "\n",
    "# def mapper(line):\n",
    "#     for word in line:\n",
    "#         yield(word.lower(),1)\n",
    "\n",
    "# def reducer(line):\n",
    "#     yield (word, sum(counts))\n",
    "    \n"
   ]
  }
 ],
 "metadata": {
  "kernelspec": {
   "display_name": "Python 2",
   "language": "python",
   "name": "python2"
  },
  "language_info": {
   "codemirror_mode": {
    "name": "ipython",
    "version": 2
   },
   "file_extension": ".py",
   "mimetype": "text/x-python",
   "name": "python",
   "nbconvert_exporter": "python",
   "pygments_lexer": "ipython2",
   "version": "2.7.13"
  }
 },
 "nbformat": 4,
 "nbformat_minor": 2
}
