{
 "cells": [
  {
   "cell_type": "code",
   "execution_count": 1,
   "metadata": {
    "collapsed": false
   },
   "outputs": [
    {
     "data": {
      "text/plain": [
       "<pyspark.context.SparkContext at 0x109a71f10>"
      ]
     },
     "execution_count": 1,
     "metadata": {},
     "output_type": "execute_result"
    }
   ],
   "source": [
    "sc"
   ]
  },
  {
   "cell_type": "code",
   "execution_count": 2,
   "metadata": {
    "collapsed": true
   },
   "outputs": [],
   "source": [
    "dfTweets = sqlContext.read.load('samplestream_twt.jsonl', format='json')\n",
    "#dfTweets.printSchema()"
   ]
  },
  {
   "cell_type": "code",
   "execution_count": 8,
   "metadata": {
    "collapsed": false
   },
   "outputs": [
    {
     "name": "stdout",
     "output_type": "stream",
     "text": [
      "+--------------------+------------------+----+--------------+-------------+--------------------+\n",
      "|                 url|            id_str|lang|favorite_count|retweet_count|                text|\n",
      "+--------------------+------------------+----+--------------+-------------+--------------------+\n",
      "|                  []|862314907819180032|  en|         16006|         6987|President Trump -...|\n",
      "|[https://t.co/ldj...|862434817727766528|  es|             0|            3|#AHORA | Director...|\n",
      "|                  []|862363801709985792|  en|           735|          272|WH STAFF: Dude th...|\n",
      "|[https://t.co/cWw...|862409155222622210|  en|          1403|          742|Why it's not craz...|\n",
      "|                null|              null|null|          null|         null|                null|\n",
      "|[https://t.co/cQw...|862394567102001152|  en|           593|          440|NBC's @SRuhle: An...|\n",
      "|                  []|862112264266043392|  en|        111865|        40119|I miss the days w...|\n",
      "|                  []|862384695702630400|  en|          7939|         6229|They stood up and...|\n",
      "|[https://t.co/omR...|862433638385803264|  en|          2945|         1349|Mr. President, we...|\n",
      "|                  []|862435876000874497|  en|            48|           22|Trump lied about:...|\n",
      "|[https://t.co/ks0...|862368572013760512|  en|          3235|         2598|Quinnipiac asked ...|\n",
      "|[https://t.co/cA4...|862337664824901632|  es|           851|         1847|Anzoátegui está e...|\n",
      "|                  []|862420729995771904|  en|          2181|         1309|So either:\n",
      "\n",
      "17 in...|\n",
      "|                null|              null|null|          null|         null|                null|\n",
      "|                  []|862303125209718785|  en|          2421|         1244|Dear Chuck Schume...|\n",
      "|                  []|862399695532032001|  en|          1443|          543|Prediction: Trump...|\n",
      "|                  []|862064341855686656|  en|         40262|        21897|Comey should be i...|\n",
      "|                null|              null|null|          null|         null|                null|\n",
      "|[https://t.co/VCD...|862433269719191552|  en|           280|          204|Senate Intel Comm...|\n",
      "|[https://t.co/iRE...|862336009589182465|  en|           238|          103|Oh.  Come.  On.\n",
      "\n",
      "...|\n",
      "+--------------------+------------------+----+--------------+-------------+--------------------+\n",
      "only showing top 20 rows\n",
      "\n"
     ]
    }
   ],
   "source": [
    "# status = dfTweets.select('retweeted_status.entities.urls.url', 'retweeted_status.id_str','retweeted_status.lang','retweeted_status.favorite_count', 'retweeted_status.retweet_count','retweeted_status.text')\n",
    "status = dfTweets.select('retweeted_status.entities.urls.url', 'retweeted_status.id_str','retweeted_status.lang','retweeted_status.favorite_count', 'retweeted_status.retweet_count','retweeted_status.text')\n",
    "\n",
    "status.show()"
   ]
  },
  {
   "cell_type": "code",
   "execution_count": 37,
   "metadata": {
    "collapsed": false
   },
   "outputs": [],
   "source": [
    "retweet_status = dfTweets.select('place.bounding_box', 'place.full_name')\n",
    "retweet_status.registerTempTable('toplocations')\n",
    "occurrence = sqlContext.sql('select bounding_box, full_name, count(full_name) as occurrence from toplocations group by full_name, bounding_box')\\\n",
    ".dropna() #.limit(50)  #limitby the most 50 occurrence\n",
    "toploc = occurrence.orderBy('occurrence', ascending=False) #order by descending order based on occurrence"
   ]
  },
  {
   "cell_type": "code",
   "execution_count": 41,
   "metadata": {
    "collapsed": false
   },
   "outputs": [],
   "source": [
    "# toploc.write.csv('toplocations/toplocations.csv')\n",
    "#toploc.write.format('csv').save('toplocations/toplocations.csv')\n",
    "toploc.toPandas().to_csv('toplocations/toplocations.csv', encoding='utf-8')\n"
   ]
  },
  {
   "cell_type": "code",
   "execution_count": null,
   "metadata": {
    "collapsed": true
   },
   "outputs": [],
   "source": []
  }
 ],
 "metadata": {
  "anaconda-cloud": {},
  "kernelspec": {
   "display_name": "Python [conda env:py2]",
   "language": "python",
   "name": "conda-env-py2-py"
  },
  "language_info": {
   "codemirror_mode": {
    "name": "ipython",
    "version": 2
   },
   "file_extension": ".py",
   "mimetype": "text/x-python",
   "name": "python",
   "nbconvert_exporter": "python",
   "pygments_lexer": "ipython2",
   "version": "2.7.12"
  }
 },
 "nbformat": 4,
 "nbformat_minor": 1
}
